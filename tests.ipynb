{
 "cells": [
  {
   "cell_type": "code",
   "execution_count": 66,
   "metadata": {},
   "outputs": [],
   "source": [
    "from datasets import load_dataset, load_dataset_builder\n",
    "import random as random"
   ]
  },
  {
   "cell_type": "code",
   "execution_count": 67,
   "metadata": {},
   "outputs": [],
   "source": [
    "#load the full 800k-example dataset (takes ~5 min the first time, then caches automatically)\n",
    "ds = load_dataset(\"microsoft/ms_marco\", 'v2.1', split=\"train\")\n"
   ]
  },
  {
   "cell_type": "code",
   "execution_count": 72,
   "metadata": {},
   "outputs": [
    {
     "name": "stdout",
     "output_type": "stream",
     "text": [
      "Total size of dataset: 808731\n",
      "Sampled dataset size: 110000\n"
     ]
    }
   ],
   "source": [
    "#take a deterministic random sample of 100k\n",
    "random.seed(42)\n",
    "size = len(ds)\n",
    "print(f\"Total size of dataset: {size}\")\n",
    "sample_size = 110000\n",
    "sample_indices = random.sample(range(size), sample_size)\n",
    "ds_sampled = ds.select(sample_indices)\n",
    "print(f\"Sampled dataset size: {len(ds_sampled)}\")"
   ]
  },
  {
   "cell_type": "code",
   "execution_count": 73,
   "metadata": {},
   "outputs": [
    {
     "name": "stderr",
     "output_type": "stream",
     "text": [
      "Map: 100%|██████████| 110000/110000 [00:03<00:00, 29124.23 examples/s]"
     ]
    },
    {
     "name": "stdout",
     "output_type": "stream",
     "text": [
      "Verifying that the size didn't change: 110000\n"
     ]
    },
    {
     "name": "stderr",
     "output_type": "stream",
     "text": [
      "\n"
     ]
    }
   ],
   "source": [
    "#merge answers with wellFormedAnswers, and drop other columns.\n",
    "#use [0] to get the first answer because sometimes there are multiple.\n",
    "def simplify(example):\n",
    "    if example['wellFormedAnswers'] and len(example['wellFormedAnswers']) > 0:\n",
    "        answer = example['wellFormedAnswers'][0]\n",
    "    else:\n",
    "        answer = example['answers'][0]\n",
    "    return {\n",
    "        'query': example['query'],\n",
    "        'answer': answer\n",
    "    }\n",
    "ds_simplified = ds_sampled.map(simplify, remove_columns=ds_sampled.column_names)\n",
    "print(f\"Verifying that the size didn't change: {len(ds_simplified)}\")\n"
   ]
  },
  {
   "cell_type": "code",
   "execution_count": 74,
   "metadata": {},
   "outputs": [
    {
     "name": "stderr",
     "output_type": "stream",
     "text": [
      "Filter: 100%|██████████| 110000/110000 [00:00<00:00, 741044.30 examples/s]"
     ]
    },
    {
     "name": "stdout",
     "output_type": "stream",
     "text": [
      "Dataset size before filtering: 110000\n",
      "Dataset size after filtering: 7510\n"
     ]
    },
    {
     "name": "stderr",
     "output_type": "stream",
     "text": [
      "\n"
     ]
    }
   ],
   "source": [
    "#filter for answers with 2-4 sentences\n",
    "def two_to_four_sentences(example):\n",
    "    period_count = example['answer'].count('.')\n",
    "    return period_count >= 2 and period_count <= 4\n",
    "\n",
    "ds_length_filtered = ds_simplified.filter(two_to_four_sentences)\n",
    "print(f\"Dataset size before filtering: {len(ds_simplified)}\")\n",
    "print(f\"Dataset size after filtering: {len(ds_length_filtered)}\")"
   ]
  },
  {
   "cell_type": "code",
   "execution_count": null,
   "metadata": {},
   "outputs": [
    {
     "name": "stderr",
     "output_type": "stream",
     "text": [
      "Filter: 100%|██████████| 7510/7510 [00:00<00:00, 164682.01 examples/s]"
     ]
    },
    {
     "name": "stdout",
     "output_type": "stream",
     "text": [
      "Dataset size before filtering: 7510\n",
      "Dataset size after filtering: 4952\n"
     ]
    },
    {
     "name": "stderr",
     "output_type": "stream",
     "text": [
      "\n"
     ]
    }
   ],
   "source": [
    "#filter out questions that don't start with a question word\n",
    "def is_complete_question(example):\n",
    "    query = example['query'].lower().strip()\n",
    "    question_starters = ['what', 'when', 'where', 'who', 'whom', 'whose', 'which', \n",
    "                        'why', 'how', 'is', 'are', 'was', 'were', 'do', 'does', \n",
    "                        'did', 'can', 'could', 'will', 'would', 'should', 'may', 'might']\n",
    "    word_count = len(query.split())\n",
    "\n",
    "    starts_with_question = any(query.startswith(word + ' ') for word in question_starters)\n",
    "    has_enough_words = word_count >= 4\n",
    "    return starts_with_question and has_enough_words\n",
    "\n",
    "ds_q_filtered = ds_length_filtered.filter(is_complete_question)\n",
    "print(f\"Dataset size before filtering: {len(ds_length_filtered)}\")\n",
    "print(f\"Dataset size after filtering: {len(ds_q_filtered)}\")"
   ]
  },
  {
   "cell_type": "code",
   "execution_count": 78,
   "metadata": {},
   "outputs": [
    {
     "name": "stdout",
     "output_type": "stream",
     "text": [
      "{'query': 'what are springs used for', 'answer': 'Springs are used to absorb energy or store it for long periods of time. You can find springs in everything from automatic doors to ballpoint pens.'}\n",
      "\n",
      "\n",
      "{'query': 'what city is glacier national park in', 'answer': 'Glacier National Park is a national park located in the U.S. state of Montana, on the Canada–United States border with the Canadian provinces of Alberta and British Columbia'}\n",
      "\n",
      "\n",
      "{'query': 'what are sea turtles classified as', 'answer': \"Sea turtles sometimes called marine turtles, are reptiles of the order Testudines. The seven extant species of sea turtles are the green, loggerhead, Kemp's ridley, olive ridley, hawksbill, flatback, and leatherback.\"}\n",
      "\n",
      "\n",
      "{'query': 'what other diseases can diabetes lead to', 'answer': 'Diabetes can lead to: heart attack. stroke. toe, foot, or leg infections requiring amputation. blindness.'}\n",
      "\n",
      "\n",
      "{'query': 'what causes st depression on ekg', 'answer': 'ST depression in general means subendocardial ischemia, meaning mild ischemia. However, it can also be due to changes in repolarization due to left ventricular hypertrophy depending on which EKG leads the ST depression is found in. So it is plausible that you have some left ventricular hypertrophy as a result of exercise and that is resulting in ST depression.'}\n",
      "\n",
      "\n",
      "{'query': 'how many pounds per kg', 'answer': 'There are 2.20462262 pounds in a kilogram.'}\n",
      "\n",
      "\n",
      "{'query': 'which groups made up the new deal coalition?', 'answer': 'The U.S. President Franklin D. Roosevelt made up the new deal coalition.'}\n",
      "\n",
      "\n",
      "{'query': 'where is dr. phil show taped', 'answer': 'The Dr. Phil Show is taped at Paramount Studios in Los Angeles.'}\n",
      "\n",
      "\n",
      "{'query': 'what the difference full coverage vs 3rd party insurance', 'answer': 'Third party insurance only covers the property of the other person involved in an accident, not your car.Full coverage insurance also covers your car if you damage it.'}\n",
      "\n",
      "\n",
      "{'query': 'how long is a venus day', 'answer': '116.75 Earth days.'}\n",
      "\n",
      "\n",
      "{'query': 'what is simple time signature or compound time signatures', 'answer': 'In a simple time signature,  the beat falls on undotted notes such as quarter notes, half notes, eighth notes. Whereas in a Compound Time Signatures, the beat occurs on a dotted note and is divisible by three.'}\n",
      "\n",
      "\n",
      "{'query': 'what is densest material', 'answer': 'The densest naturally occurring element on the planet is osmium, a metal in the platinum family with a density of 22.6 grams per cubic centimeter.'}\n",
      "\n",
      "\n",
      "{'query': 'what is meant by corruption and violence', 'answer': 'Corruption is a form of dishonest or unethical conduct by a person entrusted with a position of authority, often to acquire personal benefit. \\nViolence is the use of physical force so as to injure, abuse, damage, or destroy.'}\n",
      "\n",
      "\n",
      "{'query': 'what do dental implants costs', 'answer': 'A single implant typically costs $2,400-$3,000, but can be $4,000-$10,000 or more if additional procedures like extractions, bone grafts, tissue grafts or a sinus lift are needed. Cost helper readers report paying $1,000-$5,000 for an implant with an average cost of $2,488.'}\n",
      "\n",
      "\n",
      "{'query': 'how does the nucleus control which proteins are made by the ribosomes', 'answer': 'Although the nuclear DNA contains all of the information or codes necessary to make proteins, protein synthesis does not occur in the nucleus. Instead, an enzyme called RNA polymerase attaches to one end of a specific length of DNA and moves along the molecule making an RNA copy.'}\n",
      "\n",
      "\n"
     ]
    }
   ],
   "source": [
    "for i in range(15):\n",
    "    print(ds_q_filtered[i])\n",
    "    print('\\n')"
   ]
  }
 ],
 "metadata": {
  "kernelspec": {
   "display_name": ".venv",
   "language": "python",
   "name": "python3"
  },
  "language_info": {
   "codemirror_mode": {
    "name": "ipython",
    "version": 3
   },
   "file_extension": ".py",
   "mimetype": "text/x-python",
   "name": "python",
   "nbconvert_exporter": "python",
   "pygments_lexer": "ipython3",
   "version": "3.10.6"
  }
 },
 "nbformat": 4,
 "nbformat_minor": 2
}
