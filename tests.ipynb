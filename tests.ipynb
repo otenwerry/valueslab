{
 "cells": [
  {
   "cell_type": "code",
   "execution_count": 24,
   "metadata": {},
   "outputs": [],
   "source": [
    "from datasets import load_dataset, load_dataset_builder\n",
    "import random as random"
   ]
  },
  {
   "cell_type": "code",
   "execution_count": null,
   "metadata": {},
   "outputs": [],
   "source": [
    "ds = load_dataset(\"microsoft/ms_marco\", 'v2.1', split=\"train\")\n"
   ]
  },
  {
   "cell_type": "code",
   "execution_count": 26,
   "metadata": {},
   "outputs": [
    {
     "name": "stdout",
     "output_type": "stream",
     "text": [
      "Total size of dataset: 808731\n",
      "Sampled dataset size: 20000\n"
     ]
    }
   ],
   "source": [
    "random.seed(42)\n",
    "size = len(ds)\n",
    "print(f\"Total size of dataset: {size}\")\n",
    "sample_size = 20000\n",
    "sample_indices = random.sample(range(size), sample_size)\n",
    "ds_sampled = ds.select(sample_indices)\n",
    "print(f\"Sampled dataset size: {len(ds_sampled)}\")"
   ]
  },
  {
   "cell_type": "code",
   "execution_count": null,
   "metadata": {},
   "outputs": [],
   "source": [
    "print(ds_sampled.column_names)\n",
    "print(\"\\n\")\n",
    "for i in range(10):\n",
    "    print(ds_sampled[i]['query'])\n",
    "    print(ds_sampled[i]['answers'])\n",
    "    print(ds_sampled[i]['wellFormedAnswers'])\n",
    "    print('\\n')"
   ]
  },
  {
   "cell_type": "code",
   "execution_count": null,
   "metadata": {},
   "outputs": [],
   "source": [
    "#merge answers with wellFormedAnswers, and drop other columns\n",
    "def simplify(example):\n",
    "    if example['wellFormedAnswers'] and len(example['wellFormedAnswers']) > 0:\n",
    "        answer = example['wellFormedAnswers'][0]\n",
    "    else:\n",
    "        answer = example['answers'][0]\n",
    "    return {\n",
    "        'query': example['query'],\n",
    "        'answer': answer\n",
    "    }\n",
    "ds_simplified = ds_sampled.map(simplify, remove_columns=ds_sampled.column_names)\n",
    "print(ds_simplified.column_names)\n",
    "for i in range(10):\n",
    "    print(ds_simplified[i])\n",
    "    print('\\n')\n"
   ]
  },
  {
   "cell_type": "code",
   "execution_count": null,
   "metadata": {},
   "outputs": [],
   "source": [
    "def has_multiple_sentences(example):\n",
    "    period_count = example['answer'].count('.')\n",
    "    return period_count > 1\n",
    "\n",
    "ds_filtered = ds_simplified.filter(has_multiple_sentences)\n",
    "print(f\"Dataset size before filtering: {len(ds_simplified)}\")\n",
    "print(f\"Dataset size after filtering: {len(ds_filtered)}\")\n",
    "\n",
    "for i in range(10):\n",
    "    print(ds_filtered[i])\n",
    "    print('\\n')"
   ]
  },
  {
   "cell_type": "code",
   "execution_count": null,
   "metadata": {},
   "outputs": [],
   "source": [
    "def is_complete_question(example):\n",
    "    query = example['query'].lower().strip()\n",
    "    question_starters = ['what', 'when', 'where', 'who', 'whom', 'whose', 'which', \n",
    "                        'why', 'how', 'is', 'are', 'was', 'were', 'do', 'does', \n",
    "                        'did', 'can', 'could', 'will', 'would', 'should', 'may', 'might']\n",
    "    word_count = len(query.split())\n",
    "\n",
    "    starts_with_question = any(query.startswith(word + ' ') for word in question_starters)\n",
    "    has_enough_words = word_count >= 4\n",
    "    return starts_with_question and has_enough_words\n",
    "\n",
    "ds_filtered_2 = ds_filtered.filter(is_complete_question)\n",
    "print(f\"Dataset size before filtering: {len(ds_filtered)}\")\n",
    "print(f\"Dataset size after filtering: {len(ds_filtered_2)}\")\n",
    "\n",
    "for i in range(10):\n",
    "    print(ds_filtered_2[i])\n",
    "    print('\\n')"
   ]
  }
 ],
 "metadata": {
  "kernelspec": {
   "display_name": ".venv",
   "language": "python",
   "name": "python3"
  },
  "language_info": {
   "codemirror_mode": {
    "name": "ipython",
    "version": 3
   },
   "file_extension": ".py",
   "mimetype": "text/x-python",
   "name": "python",
   "nbconvert_exporter": "python",
   "pygments_lexer": "ipython3",
   "version": "3.10.6"
  }
 },
 "nbformat": 4,
 "nbformat_minor": 2
}
