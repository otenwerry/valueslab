{
 "cells": [
  {
   "cell_type": "code",
   "execution_count": 66,
   "metadata": {},
   "outputs": [],
   "source": [
    "from datasets import load_dataset, load_dataset_builder\n",
    "import random as random"
   ]
  },
  {
   "cell_type": "code",
   "execution_count": 67,
   "metadata": {},
   "outputs": [],
   "source": [
    "#load the full 800k-example dataset (takes ~5 min the first time, then caches automatically)\n",
    "ds = load_dataset(\"microsoft/ms_marco\", 'v2.1', split=\"train\")\n"
   ]
  },
  {
   "cell_type": "code",
   "execution_count": 72,
   "metadata": {},
   "outputs": [
    {
     "name": "stdout",
     "output_type": "stream",
     "text": [
      "Total size of dataset: 808731\n",
      "Sampled dataset size: 110000\n"
     ]
    }
   ],
   "source": [
    "#take a deterministic random sample of 100k\n",
    "random.seed(42)\n",
    "size = len(ds)\n",
    "print(f\"Total size of dataset: {size}\")\n",
    "sample_size = 110000\n",
    "sample_indices = random.sample(range(size), sample_size)\n",
    "ds_sampled = ds.select(sample_indices)\n",
    "print(f\"Sampled dataset size: {len(ds_sampled)}\")"
   ]
  },
  {
   "cell_type": "code",
   "execution_count": 73,
   "metadata": {},
   "outputs": [
    {
     "name": "stderr",
     "output_type": "stream",
     "text": [
      "Map: 100%|██████████| 110000/110000 [00:03<00:00, 29124.23 examples/s]"
     ]
    },
    {
     "name": "stdout",
     "output_type": "stream",
     "text": [
      "Verifying that the size didn't change: 110000\n"
     ]
    },
    {
     "name": "stderr",
     "output_type": "stream",
     "text": [
      "\n"
     ]
    }
   ],
   "source": [
    "#merge answers with wellFormedAnswers, and drop other columns.\n",
    "#use [0] to get the first answer because sometimes there are multiple.\n",
    "def simplify(example):\n",
    "    if example['wellFormedAnswers'] and len(example['wellFormedAnswers']) > 0:\n",
    "        answer = example['wellFormedAnswers'][0]\n",
    "    else:\n",
    "        answer = example['answers'][0]\n",
    "    return {\n",
    "        'query': example['query'],\n",
    "        'answer': answer\n",
    "    }\n",
    "ds_simplified = ds_sampled.map(simplify, remove_columns=ds_sampled.column_names)\n",
    "print(f\"Verifying that the size didn't change: {len(ds_simplified)}\")\n"
   ]
  },
  {
   "cell_type": "code",
   "execution_count": 74,
   "metadata": {},
   "outputs": [
    {
     "name": "stderr",
     "output_type": "stream",
     "text": [
      "Filter: 100%|██████████| 110000/110000 [00:00<00:00, 741044.30 examples/s]"
     ]
    },
    {
     "name": "stdout",
     "output_type": "stream",
     "text": [
      "Dataset size before filtering: 110000\n",
      "Dataset size after filtering: 7510\n"
     ]
    },
    {
     "name": "stderr",
     "output_type": "stream",
     "text": [
      "\n"
     ]
    }
   ],
   "source": [
    "#filter for answers with 2-4 sentences\n",
    "def two_to_four_sentences(example):\n",
    "    period_count = example['answer'].count('.')\n",
    "    return period_count >= 2 and period_count <= 4\n",
    "\n",
    "ds_length_filtered = ds_simplified.filter(two_to_four_sentences)\n",
    "print(f\"Dataset size before filtering: {len(ds_simplified)}\")\n",
    "print(f\"Dataset size after filtering: {len(ds_length_filtered)}\")"
   ]
  },
  {
   "cell_type": "code",
   "execution_count": 75,
   "metadata": {},
   "outputs": [
    {
     "name": "stderr",
     "output_type": "stream",
     "text": [
      "Filter: 100%|██████████| 7510/7510 [00:00<00:00, 164682.01 examples/s]"
     ]
    },
    {
     "name": "stdout",
     "output_type": "stream",
     "text": [
      "Dataset size before filtering: 7510\n",
      "Dataset size after filtering: 4952\n"
     ]
    },
    {
     "name": "stderr",
     "output_type": "stream",
     "text": [
      "\n"
     ]
    }
   ],
   "source": [
    "#filter out questions that don't start with a question word\n",
    "def is_complete_question(example):\n",
    "    query = example['query'].lower().strip()\n",
    "    question_starters = ['what', 'when', 'where', 'who', 'whom', 'whose', 'which', \n",
    "                        'why', 'how', 'is', 'are', 'was', 'were', 'do', 'does', \n",
    "                        'did', 'can', 'could', 'will', 'would', 'should', 'may', 'might']\n",
    "    word_count = len(query.split())\n",
    "\n",
    "    starts_with_question = any(query.startswith(word + ' ') for word in question_starters)\n",
    "    has_enough_words = word_count >= 4\n",
    "    return starts_with_question and has_enough_words\n",
    "\n",
    "ds_q_filtered = ds_length_filtered.filter(is_complete_question)\n",
    "print(f\"Dataset size before filtering: {len(ds_length_filtered)}\")\n",
    "print(f\"Dataset size after filtering: {len(ds_q_filtered)}\")"
   ]
  }
 ],
 "metadata": {
  "kernelspec": {
   "display_name": ".venv",
   "language": "python",
   "name": "python3"
  },
  "language_info": {
   "codemirror_mode": {
    "name": "ipython",
    "version": 3
   },
   "file_extension": ".py",
   "mimetype": "text/x-python",
   "name": "python",
   "nbconvert_exporter": "python",
   "pygments_lexer": "ipython3",
   "version": "3.10.6"
  }
 },
 "nbformat": 4,
 "nbformat_minor": 2
}
