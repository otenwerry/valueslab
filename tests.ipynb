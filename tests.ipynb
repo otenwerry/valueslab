{
 "cells": [
  {
   "cell_type": "code",
   "execution_count": 24,
   "metadata": {},
   "outputs": [],
   "source": [
    "from datasets import load_dataset, load_dataset_builder\n",
    "import random as random"
   ]
  },
  {
   "cell_type": "code",
   "execution_count": null,
   "metadata": {},
   "outputs": [],
   "source": [
    "ds = load_dataset(\"microsoft/ms_marco\", 'v2.1', split=\"train\")\n"
   ]
  },
  {
   "cell_type": "code",
   "execution_count": 26,
   "metadata": {},
   "outputs": [
    {
     "name": "stdout",
     "output_type": "stream",
     "text": [
      "Total size of dataset: 808731\n",
      "Sampled dataset size: 20000\n"
     ]
    }
   ],
   "source": [
    "random.seed(42)\n",
    "size = len(ds)\n",
    "print(f\"Total size of dataset: {size}\")\n",
    "sample_size = 20000\n",
    "sample_indices = random.sample(range(size), sample_size)\n",
    "ds_sampled = ds.select(sample_indices)\n",
    "print(f\"Sampled dataset size: {len(ds_sampled)}\")"
   ]
  },
  {
   "cell_type": "code",
   "execution_count": null,
   "metadata": {},
   "outputs": [],
   "source": [
    "print(ds_sampled.column_names)\n",
    "print(\"\\n\")\n",
    "for i in range(10):\n",
    "    print(ds_sampled[i]['query'])\n",
    "    print(ds_sampled[i]['answers'])\n",
    "    print(ds_sampled[i]['wellFormedAnswers'])\n",
    "    print('\\n')"
   ]
  },
  {
   "cell_type": "code",
   "execution_count": null,
   "metadata": {},
   "outputs": [],
   "source": [
    "#merge answers with wellFormedAnswers, and drop other columns\n",
    "def simplify(example):\n",
    "    if example['wellFormedAnswers'] and len(example['wellFormedAnswers']) > 0:\n",
    "        answer = example['wellFormedAnswers'][0]\n",
    "    else:\n",
    "        answer = example['answers'][0]\n",
    "    return {\n",
    "        'query': example['query'],\n",
    "        'answer': answer\n",
    "    }\n",
    "ds_simplified = ds_sampled.map(simplify, remove_columns=ds_sampled.column_names)\n",
    "print(ds_simplified.column_names)\n",
    "for i in range(10):\n",
    "    print(ds_simplified[i])\n",
    "    print('\\n')\n"
   ]
  },
  {
   "cell_type": "code",
   "execution_count": 37,
   "metadata": {},
   "outputs": [
    {
     "name": "stdout",
     "output_type": "stream",
     "text": [
      "Dataset size before filtering: 20000\n",
      "Dataset size after filtering: 1544\n",
      "{'query': 'cause of brief psychotic disorder', 'answer': 'Brief psychotic disorder is triggered by extreme stress, such as a traumatic accident or loss of a loved one. It is followed by a return to the previous level of function.'}\n",
      "\n",
      "\n",
      "{'query': 'what are springs used for', 'answer': 'Springs are used to absorb energy or store it for long periods of time. You can find springs in everything from automatic doors to ballpoint pens.'}\n",
      "\n",
      "\n",
      "{'query': 'what city is glacier national park in', 'answer': 'Glacier National Park is a national park located in the U.S. state of Montana, on the Canada–United States border with the Canadian provinces of Alberta and British Columbia'}\n",
      "\n",
      "\n",
      "{'query': 'what are sea turtles classified as', 'answer': \"Sea turtles sometimes called marine turtles, are reptiles of the order Testudines. The seven extant species of sea turtles are the green, loggerhead, Kemp's ridley, olive ridley, hawksbill, flatback, and leatherback.\"}\n",
      "\n",
      "\n",
      "{'query': 'what other diseases can diabetes lead to', 'answer': 'Diabetes can lead to: heart attack. stroke. toe, foot, or leg infections requiring amputation. blindness.'}\n",
      "\n",
      "\n",
      "{'query': 'tower of london cost', 'answer': 'The cost of a ticket for the Tower of London is $ 33.10.  '}\n",
      "\n",
      "\n",
      "{'query': 'what causes st depression on ekg', 'answer': 'ST depression in general means subendocardial ischemia, meaning mild ischemia. However, it can also be due to changes in repolarization due to left ventricular hypertrophy depending on which EKG leads the ST depression is found in. So it is plausible that you have some left ventricular hypertrophy as a result of exercise and that is resulting in ST depression.'}\n",
      "\n",
      "\n",
      "{'query': 'how many pounds per kg', 'answer': 'There are 2.20462262 pounds in a kilogram.'}\n",
      "\n",
      "\n",
      "{'query': 'spray foam insulation sf cost', 'answer': 'The insulation cost for open-cell spray foam costs $.40 to $.70 per board foot and for closed-cell spray foam costs $.75 to $1 per board foot.'}\n",
      "\n",
      "\n",
      "{'query': 'divergent boundaries characteristics', 'answer': 'There it forms characteristics of a continental divergence, and a rift is forming on the island. Eventually Iceland will break into two separate islands, with sea in between. The East African Rift is a continental divergent boundary in East Africa.'}\n",
      "\n",
      "\n"
     ]
    }
   ],
   "source": [
    "def has_multiple_sentences(example):\n",
    "    period_count = example['answer'].count('.')\n",
    "    return period_count > 1\n",
    "\n",
    "ds_filtered = ds_simplified.filter(has_multiple_sentences)\n",
    "print(f\"Dataset size before filtering: {len(ds_simplified)}\")\n",
    "print(f\"Dataset size after filtering: {len(ds_filtered)}\")\n",
    "\n",
    "for i in range(10):\n",
    "    print(ds_filtered[i])\n",
    "    print('\\n')"
   ]
  }
 ],
 "metadata": {
  "kernelspec": {
   "display_name": ".venv",
   "language": "python",
   "name": "python3"
  },
  "language_info": {
   "codemirror_mode": {
    "name": "ipython",
    "version": 3
   },
   "file_extension": ".py",
   "mimetype": "text/x-python",
   "name": "python",
   "nbconvert_exporter": "python",
   "pygments_lexer": "ipython3",
   "version": "3.10.6"
  }
 },
 "nbformat": 4,
 "nbformat_minor": 2
}
