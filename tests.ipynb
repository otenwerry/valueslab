{
 "cells": [
  {
   "cell_type": "code",
   "execution_count": 24,
   "metadata": {},
   "outputs": [],
   "source": [
    "from datasets import load_dataset, load_dataset_builder\n",
    "import random as random"
   ]
  },
  {
   "cell_type": "code",
   "execution_count": null,
   "metadata": {},
   "outputs": [],
   "source": [
    "ds = load_dataset(\"microsoft/ms_marco\", 'v2.1', split=\"train\")\n"
   ]
  },
  {
   "cell_type": "code",
   "execution_count": 26,
   "metadata": {},
   "outputs": [
    {
     "name": "stdout",
     "output_type": "stream",
     "text": [
      "Total size of dataset: 808731\n",
      "Sampled dataset size: 20000\n"
     ]
    }
   ],
   "source": [
    "random.seed(42)\n",
    "size = len(ds)\n",
    "print(f\"Total size of dataset: {size}\")\n",
    "sample_size = 20000\n",
    "sample_indices = random.sample(range(size), sample_size)\n",
    "ds_sampled = ds.select(sample_indices)\n",
    "print(f\"Sampled dataset size: {len(ds_sampled)}\")"
   ]
  },
  {
   "cell_type": "code",
   "execution_count": 33,
   "metadata": {},
   "outputs": [
    {
     "name": "stdout",
     "output_type": "stream",
     "text": [
      "['answers', 'passages', 'query', 'query_id', 'query_type', 'wellFormedAnswers']\n",
      "\n",
      "\n",
      "how many people walked on the moon\n",
      "['12']\n",
      "['There are 12 people who have walked on the moon.']\n",
      "\n",
      "\n",
      "orcutt what county\n",
      "['Orcutt is in Santa Barbara County.']\n",
      "[]\n",
      "\n",
      "\n",
      "different types of cookies\n",
      "['There are many different types of cookies are Session cookies, Permanent cookies, Chocolate Chip Chunk Snickerdoodle, Butter Sugar, Rocky Road, White chocolate macadamia, Peanut Butter, Oatmeal Rasin.']\n",
      "[]\n",
      "\n",
      "\n",
      "what does the name eleanor mean\n",
      "['Shining light']\n",
      "['The name Eleanor means Shining light.']\n",
      "\n",
      "\n",
      "cause of brief psychotic disorder\n",
      "['Brief psychotic disorder is triggered by extreme stress, such as a traumatic accident or loss of a loved one. It is followed by a return to the previous level of function.']\n",
      "[]\n",
      "\n",
      "\n",
      "how many arcade games does chucky cheese have in it\n",
      "['No Answer Present.']\n",
      "[]\n",
      "\n",
      "\n",
      "is asparagus good for reducing inflammation\n",
      "['Yes']\n",
      "[]\n",
      "\n",
      "\n",
      "what are springs used for\n",
      "['Springs are used to absorb energy or store it for long periods of time. You can find springs in everything from automatic doors to ballpoint pens.']\n",
      "[]\n",
      "\n",
      "\n",
      "can caregivers in home use a bipap\n",
      "['No Answer Present.']\n",
      "[]\n",
      "\n",
      "\n",
      "uscis passport card\n",
      "['No Answer Present.']\n",
      "[]\n",
      "\n",
      "\n"
     ]
    }
   ],
   "source": [
    "print(ds_sampled.column_names)\n",
    "print(\"\\n\")\n",
    "for i in range(10):\n",
    "    print(ds_sampled[i]['query'])\n",
    "    print(ds_sampled[i]['answers'])\n",
    "    print(ds_sampled[i]['wellFormedAnswers'])\n",
    "    print('\\n')"
   ]
  },
  {
   "cell_type": "code",
   "execution_count": 35,
   "metadata": {},
   "outputs": [
    {
     "name": "stderr",
     "output_type": "stream",
     "text": [
      "Map: 100%|██████████| 20000/20000 [00:00<00:00, 30954.68 examples/s]"
     ]
    },
    {
     "name": "stdout",
     "output_type": "stream",
     "text": [
      "['query', 'answer']\n",
      "{'query': 'how many people walked on the moon', 'answer': 'There are 12 people who have walked on the moon.'}\n",
      "\n",
      "\n",
      "{'query': 'orcutt what county', 'answer': 'Orcutt is in Santa Barbara County.'}\n",
      "\n",
      "\n",
      "{'query': 'different types of cookies', 'answer': 'There are many different types of cookies are Session cookies, Permanent cookies, Chocolate Chip Chunk Snickerdoodle, Butter Sugar, Rocky Road, White chocolate macadamia, Peanut Butter, Oatmeal Rasin.'}\n",
      "\n",
      "\n",
      "{'query': 'what does the name eleanor mean', 'answer': 'The name Eleanor means Shining light.'}\n",
      "\n",
      "\n",
      "{'query': 'cause of brief psychotic disorder', 'answer': 'Brief psychotic disorder is triggered by extreme stress, such as a traumatic accident or loss of a loved one. It is followed by a return to the previous level of function.'}\n",
      "\n",
      "\n",
      "{'query': 'how many arcade games does chucky cheese have in it', 'answer': 'No Answer Present.'}\n",
      "\n",
      "\n",
      "{'query': 'is asparagus good for reducing inflammation', 'answer': 'Yes'}\n",
      "\n",
      "\n",
      "{'query': 'what are springs used for', 'answer': 'Springs are used to absorb energy or store it for long periods of time. You can find springs in everything from automatic doors to ballpoint pens.'}\n",
      "\n",
      "\n",
      "{'query': 'can caregivers in home use a bipap', 'answer': 'No Answer Present.'}\n",
      "\n",
      "\n",
      "{'query': 'uscis passport card', 'answer': 'No Answer Present.'}\n",
      "\n",
      "\n"
     ]
    },
    {
     "name": "stderr",
     "output_type": "stream",
     "text": [
      "\n"
     ]
    }
   ],
   "source": [
    "#merge answers with wellFormedAnswers, and drop other columns\n",
    "def simplify(example):\n",
    "    if example['wellFormedAnswers'] and len(example['wellFormedAnswers']) > 0:\n",
    "        answer = example['wellFormedAnswers'][0]\n",
    "    else:\n",
    "        answer = example['answers'][0]\n",
    "    return {\n",
    "        'query': example['query'],\n",
    "        'answer': answer\n",
    "    }\n",
    "ds_simplified = ds_sampled.map(simplify, remove_columns=ds_sampled.column_names)\n",
    "print(ds_simplified.column_names)\n",
    "for i in range(10):\n",
    "    print(ds_simplified[i])\n",
    "    print('\\n')\n"
   ]
  }
 ],
 "metadata": {
  "kernelspec": {
   "display_name": ".venv",
   "language": "python",
   "name": "python3"
  },
  "language_info": {
   "codemirror_mode": {
    "name": "ipython",
    "version": 3
   },
   "file_extension": ".py",
   "mimetype": "text/x-python",
   "name": "python",
   "nbconvert_exporter": "python",
   "pygments_lexer": "ipython3",
   "version": "3.10.6"
  }
 },
 "nbformat": 4,
 "nbformat_minor": 2
}
