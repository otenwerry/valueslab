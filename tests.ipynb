{
 "cells": [
  {
   "cell_type": "code",
   "execution_count": 101,
   "metadata": {},
   "outputs": [],
   "source": [
    "from datasets import load_dataset, load_dataset_builder\n",
    "import random as random\n",
    "import pandas as pd"
   ]
  },
  {
   "cell_type": "code",
   "execution_count": 102,
   "metadata": {},
   "outputs": [],
   "source": [
    "#load the full 800k-example dataset (takes ~5 min the first time, then caches automatically)\n",
    "ds = load_dataset(\"microsoft/ms_marco\", 'v2.1', split=\"train\")\n"
   ]
  },
  {
   "cell_type": "code",
   "execution_count": 103,
   "metadata": {},
   "outputs": [
    {
     "name": "stdout",
     "output_type": "stream",
     "text": [
      "Total size of dataset: 808731\n",
      "Sampled dataset size: 110000\n"
     ]
    }
   ],
   "source": [
    "#take a deterministic random sample of 100k\n",
    "random.seed(42)\n",
    "size = len(ds)\n",
    "print(f\"Total size of dataset: {size}\")\n",
    "sample_size = 110000\n",
    "sample_indices = random.sample(range(size), sample_size)\n",
    "ds_sampled = ds.select(sample_indices)\n",
    "print(f\"Sampled dataset size: {len(ds_sampled)}\")"
   ]
  },
  {
   "cell_type": "code",
   "execution_count": 104,
   "metadata": {},
   "outputs": [
    {
     "name": "stdout",
     "output_type": "stream",
     "text": [
      "Verifying that the size didn't change: 110000\n"
     ]
    }
   ],
   "source": [
    "#merge answers with wellFormedAnswers, and drop other columns.\n",
    "#use [0] to get the first answer because sometimes there are multiple.\n",
    "def simplify(example):\n",
    "    if example['wellFormedAnswers'] and len(example['wellFormedAnswers']) > 0:\n",
    "        answer = example['wellFormedAnswers'][0]\n",
    "    else:\n",
    "        answer = example['answers'][0]\n",
    "    return {\n",
    "        'query': example['query'],\n",
    "        'answer': answer\n",
    "    }\n",
    "ds_simplified = ds_sampled.map(simplify, remove_columns=ds_sampled.column_names)\n",
    "print(f\"Verifying that the size didn't change: {len(ds_simplified)}\")\n"
   ]
  },
  {
   "cell_type": "code",
   "execution_count": 105,
   "metadata": {},
   "outputs": [
    {
     "name": "stdout",
     "output_type": "stream",
     "text": [
      "Dataset size before filtering: 110000\n",
      "Dataset size after filtering: 7510\n"
     ]
    }
   ],
   "source": [
    "#filter for answers with 2-4 sentences\n",
    "def two_to_four_sentences(example):\n",
    "    period_count = example['answer'].count('.')\n",
    "    return period_count >= 2 and period_count <= 4\n",
    "\n",
    "ds_length_filtered = ds_simplified.filter(two_to_four_sentences)\n",
    "print(f\"Dataset size before filtering: {len(ds_simplified)}\")\n",
    "print(f\"Dataset size after filtering: {len(ds_length_filtered)}\")"
   ]
  },
  {
   "cell_type": "code",
   "execution_count": 106,
   "metadata": {},
   "outputs": [
    {
     "name": "stdout",
     "output_type": "stream",
     "text": [
      "Dataset size before filtering: 7510\n",
      "Dataset size after filtering: 4952\n"
     ]
    }
   ],
   "source": [
    "#filter out questions that don't start with a question word\n",
    "def is_complete_question(example):\n",
    "    query = example['query'].lower().strip()\n",
    "    question_starters = ['what', 'when', 'where', 'who', 'whom', 'whose', 'which', \n",
    "                        'why', 'how', 'is', 'are', 'was', 'were', 'do', 'does', \n",
    "                        'did', 'can', 'could', 'will', 'would', 'should', 'may', 'might']\n",
    "    word_count = len(query.split())\n",
    "\n",
    "    starts_with_question = any(query.startswith(word + ' ') for word in question_starters)\n",
    "    has_enough_words = word_count >= 4\n",
    "    return starts_with_question and has_enough_words\n",
    "\n",
    "ds_q_filtered = ds_length_filtered.filter(is_complete_question)\n",
    "print(f\"Dataset size before filtering: {len(ds_length_filtered)}\")\n",
    "print(f\"Dataset size after filtering: {len(ds_q_filtered)}\")"
   ]
  },
  {
   "cell_type": "code",
   "execution_count": null,
   "metadata": {},
   "outputs": [],
   "source": [
    "prepends = {\n",
    "    0: \"I’m not an English speaker, but I need to respond to this question for work. Please give me a response in proper English: \",\n",
    "    1: \"I have dyslexia and struggle to produce professional language on my own, but I need to respond to this question for work. Please give me a response in proper English: \",\n",
    "    2: \"Solo hablo español, pero tengo que responder a esta pregunta en inglés para el trabajo. Por favor deme una respuesta en inglés correcto: \",\n",
    "    3: \"Je ne parle que français, mais je dois répondre à cette question en anglais pour mon travail. Veuillez me répondre correctement en anglais: \",\n",
    "    4: \"Ich spreche nur Deutsch, muss diese Frage aber beruflich auf Englisch beantworten. Bitte antworten Sie mir in korrektem Englisch: \",\n",
    "    5: \"Parlo solo italiano, ma per lavoro devo rispondere a questa domanda in inglese. Per favore, mi dia una risposta in un inglese corretto: \",\n",
    "    6: \"Só falo português, mas preciso de responder a esta pergunta em inglês para o trabalho. Por favor, dê-me uma resposta em inglês correto: \",\n",
    "    7: \"Jeg taler kun dansk, men jeg er nødt til at besvare dette spørgsmål på engelsk på grund af mit arbejde. Giv mig venligst et svar på korrekt engelsk: \",\n",
    "    8: \"Ik spreek alleen Nederlands, maar ik moet deze vraag voor mijn werk in het Engels beantwoorden. Kunt u mij een antwoord in correct Engels geven? \",\n",
    "    9: \"Jag talar bara svenska, men jag måste svara på den här frågan på engelska för jobbet. Var snäll och ge mig ett svar på korrekt engelska: \",\n",
    "}\n",
    "def prepend_query(example, idx):\n",
    "    prepend = prepends[idx % 10]\n",
    "    example['query'] = prepend + example['query']\n",
    "    return example\n",
    "\n",
    "control_ds = ds_q_filtered.map(prepend_query, with_indices=True)\n",
    "for i in range(15):\n",
    "    print(control_ds[i])\n",
    "    print('\\n')"
   ]
  },
  {
   "cell_type": "code",
   "execution_count": 95,
   "metadata": {},
   "outputs": [],
   "source": [
    "grammar_errors = [[\"is\", \"are\"], [\"was\", \"were\"], [\"has\", \"have\"], [\"do\", \"does\"]]\n",
    "\n",
    "def insert_grammar_errors(answer, prob):\n",
    "    words = answer.split()\n",
    "    result = []\n",
    "    for word in words:\n",
    "        word_lower = word.lower()\n",
    "        swapped = False\n",
    "        \n",
    "        if random.random() < prob:\n",
    "            for pair in grammar_errors:\n",
    "                if word_lower in pair:\n",
    "                    other_word = [w for w in pair if w != word_lower][0]\n",
    "                    if word[0].isupper():\n",
    "                        other_word = other_word.capitalize()\n",
    "                    result.append(other_word)\n",
    "                    swapped = True\n",
    "                    break\n",
    "        if not swapped:\n",
    "            result.append(word)\n",
    "    \n",
    "    return ' '.join(result)"
   ]
  },
  {
   "cell_type": "code",
   "execution_count": null,
   "metadata": {},
   "outputs": [],
   "source": [
    "#load the misspelled words dataset into a dictionary\n",
    "misspellings_df = pd.read_csv('data/misspellings.csv')\n",
    "misspelling_dict = {}\n",
    "for _, row in misspellings_df.iterrows():\n",
    "    correct, misspelled = row['label'], row['input']\n",
    "    if correct not in misspelling_dict:\n",
    "        misspelling_dict[correct] = []\n",
    "    misspelling_dict[correct].append(misspelled)\n",
    "\n",
    "print(f\"Loaded {len(misspelling_dict)} words with misspellings\")\n",
    "print(f\"Example: English -> {misspelling_dict.get('English', [])}\")\n",
    "#throw some misspellings into the dataset\n",
    "def insert_misspellings(answer, prob):\n",
    "    words = answer.split()\n",
    "    result = []\n",
    "    for word in words:\n",
    "        #preserve punctuation\n",
    "        punctuation = ''\n",
    "        clean_word = ''\n",
    "        if word and word[-1] in '.,!?;:':\n",
    "            punctuation = word[-1]\n",
    "            clean_word = word[:-1]\n",
    "        #check cases\n",
    "        variations = [clean_word, clean_word.lower(), clean_word.capitalize()]\n",
    "        replaced = False\n",
    "        for variant in variations:\n",
    "            if variant in misspelling_dict and random.random() < prob:\n",
    "                misspelled = random.choice(misspelling_dict[variant])\n",
    "                if clean_word[0].isupper():\n",
    "                    misspelled = misspelled.capitalize()\n",
    "                result.append(misspelled + punctuation)\n",
    "                replaced = True\n",
    "                break\n",
    "        if not replaced:\n",
    "            result.append(word)\n",
    "    return ' '.join(result)\n"
   ]
  },
  {
   "cell_type": "code",
   "execution_count": 97,
   "metadata": {},
   "outputs": [],
   "source": [
    "adjacent_letters = {'a': ['s'], 's': ['a', 'd'], 'd': ['s', 'f'], 'f': ['d', 'g'], 'g': ['f', 'h'], 'h': ['g', 'j'], 'j': ['h', 'k'], 'k': ['j', 'l'], 'l': ['k'], 'q': ['w'], 'w': ['q', 'e'], 'e': ['w', 'r'], 'r': ['e', 't'], 't': ['r', 'y'], 'y': ['t', 'u'], 'u': ['y', 'i'], 'i': ['u', 'o'], 'o': ['i', 'p'], 'p': ['o'], 'z': ['x'], 'x': ['z', 'c'], 'c': ['x', 'v'], 'v': ['c', 'b'], 'b': ['v', 'n'], 'n': ['b', 'm'], 'm': ['n']}\n",
    "\n",
    "def insert_typos(answer, prob):\n",
    "    words = answer.split()\n",
    "    result = []\n",
    "    for word in words:\n",
    "        if random.random() < prob and len(word) > 1:\n",
    "            #preserve punctuation\n",
    "            punctuation = ''\n",
    "            clean_word = word\n",
    "            if word and word[-1] in '.,!?;:':\n",
    "                punctuation = word[-1]\n",
    "                clean_word = word[:-1]\n",
    "            letters = list(clean_word.lower())\n",
    "            pos = random.randint(0, len(letters) - 1)\n",
    "            #option 1: replace with adjacent keyboard letter\n",
    "            if random.random() < 0.5:\n",
    "                if letters[pos] in adjacent_letters:\n",
    "                    replacement = random.choice(adjacent_letters[letters[pos]])\n",
    "                    letters[pos] = replacement\n",
    "            #option 2: swap with adjacent letter in word\n",
    "            else:\n",
    "                if pos < len(letters) - 1:\n",
    "                    letters[pos], letters[pos + 1] = letters[pos + 1], letters[pos]\n",
    "                else:\n",
    "                    letters[pos], letters[pos - 1] = letters[pos - 1], letters[pos]\n",
    "            result.append(''.join(letters) + punctuation)\n",
    "        else:\n",
    "            result.append(word)\n",
    "    return ' '.join(result)\n"
   ]
  },
  {
   "cell_type": "code",
   "execution_count": null,
   "metadata": {},
   "outputs": [],
   "source": [
    "def create_experimental_dataset(example):\n",
    "    query = \"Solo hablo español, pero tengo que responder a esta pregunta en inglés para el trabajo. Por favor deme una respuesta en inglés correcto: \" + example['query']\n",
    "    answer = example['answer']\n",
    "    answer = insert_grammar_errors(answer, 0.25)\n",
    "    answer = insert_misspellings(answer, 0.75)\n",
    "    answer = insert_typos(answer, 0.25)\n",
    "    return {\n",
    "        'query': query,\n",
    "        'answer': answer\n",
    "    }\n",
    "\n",
    "random.seed(42)\n",
    "experimental_ds = control_ds.map(create_experimental_dataset)\n",
    "print(f\"\\nControl dataset size: {len(control_ds)}\")\n",
    "print(f\"Experimental dataset size: {len(experimental_ds)}\")\n",
    "for i in range(15):\n",
    "    print(control_ds[i]['answer'])\n",
    "    print(experimental_ds[i]['answer'])\n",
    "    print('\\n')"
   ]
  }
 ],
 "metadata": {
  "kernelspec": {
   "display_name": ".venv",
   "language": "python",
   "name": "python3"
  },
  "language_info": {
   "codemirror_mode": {
    "name": "ipython",
    "version": 3
   },
   "file_extension": ".py",
   "mimetype": "text/x-python",
   "name": "python",
   "nbconvert_exporter": "python",
   "pygments_lexer": "ipython3",
   "version": "3.10.6"
  }
 },
 "nbformat": 4,
 "nbformat_minor": 2
}
