{
 "cells": [
  {
   "cell_type": "code",
   "execution_count": 3,
   "metadata": {},
   "outputs": [
    {
     "name": "stderr",
     "output_type": "stream",
     "text": [
      "/Users/owenterry/valueslab/.venv/lib/python3.10/site-packages/tqdm/auto.py:21: TqdmWarning: IProgress not found. Please update jupyter and ipywidgets. See https://ipywidgets.readthedocs.io/en/stable/user_install.html\n",
      "  from .autonotebook import tqdm as notebook_tqdm\n"
     ]
    }
   ],
   "source": [
    "from datasets import load_dataset"
   ]
  },
  {
   "cell_type": "code",
   "execution_count": 18,
   "metadata": {},
   "outputs": [],
   "source": [
    "ds = load_dataset(\"microsoft/ms_marco\", 'v2.1', split=\"train\", streaming=True)\n",
    "small_ds = ds.take(1000)"
   ]
  },
  {
   "cell_type": "code",
   "execution_count": 19,
   "metadata": {},
   "outputs": [
    {
     "name": "stdout",
     "output_type": "stream",
     "text": [
      "\n",
      "--- Example 0 ---\n",
      "Query: )what was the immediate impact of the success of the manhattan project?\n",
      "Answers: ['The immediate impact of the success of the manhattan project was the only cloud hanging over the impressive achievement of the atomic researchers and engineers is what their success truly meant; hundreds of thousands of innocent lives obliterated.']\n",
      "\n",
      "--- Example 1 ---\n",
      "Query: _________ justice is designed to repair the harm to victim, the community and the offender caused by the offender criminal act. question 19 options:\n",
      "Answers: ['Restorative justice that fosters dialogue between victim and offender has shown the highest rates of victim satisfaction and offender accountability.']\n",
      "\n",
      "--- Example 2 ---\n",
      "Query: why did stalin want control of eastern europe\n",
      "Answers: ['The reasons why Stalin wanted to control Eastern Europe are Russia has historically no secure border and they wanted to set up satellite countries.']\n",
      "\n",
      "--- Example 3 ---\n",
      "Query: why do nails get rusty\n",
      "Answers: ['Nails rust in water because water allows the iron to react with any oxygen present, which forms iron oxide. Nails rust due to presence of some impurities in the water, particularly salts, which speeds up the transfer of electrons from iron to oxygen.']\n",
      "\n",
      "--- Example 4 ---\n",
      "Query: depona ab\n",
      "Answers: ['Depona Ab is a library in Vilhelmina, Sweden.']\n",
      "\n",
      "--- Example 5 ---\n",
      "Query: is the atlanta airport the busiest in the world\n",
      "Answers: ['No Answer Present.']\n",
      "\n",
      "--- Example 6 ---\n",
      "Query: nyu tuition cost\n",
      "Answers: ['$43,746 for the 2014-2015 academic year.']\n",
      "\n",
      "--- Example 7 ---\n",
      "Query: at what age do kids start to hold memories\n",
      "Answers: ['Before the age of 2–4 years.']\n",
      "\n",
      "--- Example 8 ---\n",
      "Query: average teeth brushing time\n",
      "Answers: ['Americans brush for just under the two minutes on average.']\n",
      "\n",
      "--- Example 9 ---\n",
      "Query: is funner a word?\n",
      "Answers: ['Yes, funner is a word.']\n"
     ]
    }
   ],
   "source": [
    "for i, example in enumerate(small_ds):\n",
    "    if i < 10: \n",
    "        print(f\"\\n--- Example {i} ---\")\n",
    "        print(f\"Query: {example['query']}\")\n",
    "        print(f\"Answers: {example['answers']}\")\n",
    "    else:\n",
    "        break"
   ]
  }
 ],
 "metadata": {
  "kernelspec": {
   "display_name": ".venv",
   "language": "python",
   "name": "python3"
  },
  "language_info": {
   "codemirror_mode": {
    "name": "ipython",
    "version": 3
   },
   "file_extension": ".py",
   "mimetype": "text/x-python",
   "name": "python",
   "nbconvert_exporter": "python",
   "pygments_lexer": "ipython3",
   "version": "3.10.6"
  }
 },
 "nbformat": 4,
 "nbformat_minor": 2
}
